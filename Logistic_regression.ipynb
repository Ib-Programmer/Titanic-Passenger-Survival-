{
 "cells": [
  {
   "cell_type": "code",
   "execution_count": 3,
   "id": "b07eb24a",
   "metadata": {},
   "outputs": [],
   "source": [
    "import pandas as pd \n",
    "from pandas.plotting import scatter_matrix\n",
    "import numpy as np \n",
    "import matplotlib.pyplot as plt \n",
    "%matplotlib inline \n",
    "\n",
    "import seaborn as sns\n",
    "sns.set(style='white', color_codes=True)\n",
    "sns.set(font_scale= 1.5)\n",
    "\n",
    "from sklearn.linear_model import LogisticRegression \n",
    "from sklearn.model_selection import train_test_split\n",
    "\n",
    "from sklearn.metrics import confusion_matrix\n",
    "from sklearn.metrics import classification_report\n",
    "from sklearn.metrics import accuracy_score\n",
    "from sklearn.metrics import precision_score\n",
    "from sklearn.metrics import recall_score\n",
    "from sklearn.metrics import f1_score\n",
    "from sklearn import metrics"
   ]
  },
  {
   "cell_type": "code",
   "execution_count": 4,
   "id": "e10f83c7",
   "metadata": {},
   "outputs": [
    {
     "data": {
      "text/plain": [
       "(418, 11)"
      ]
     },
     "execution_count": 4,
     "metadata": {},
     "output_type": "execute_result"
    }
   ],
   "source": [
    "train_data = pd.read_csv('Titanic.csv', index_col= 0)\n",
    "train_data.shape"
   ]
  },
  {
   "cell_type": "code",
   "execution_count": 5,
   "id": "95c312c2",
   "metadata": {},
   "outputs": [
    {
     "data": {
      "text/plain": [
       "Survived      int64\n",
       "Pclass        int64\n",
       "Name         object\n",
       "Sex          object\n",
       "Age         float64\n",
       "SibSp         int64\n",
       "Parch         int64\n",
       "Ticket       object\n",
       "Fare        float64\n",
       "Cabin        object\n",
       "Embarked     object\n",
       "dtype: object"
      ]
     },
     "execution_count": 5,
     "metadata": {},
     "output_type": "execute_result"
    }
   ],
   "source": [
    "train_data.dtypes"
   ]
  },
  {
   "cell_type": "code",
   "execution_count": 6,
   "id": "27e77428",
   "metadata": {},
   "outputs": [
    {
     "data": {
      "text/plain": [
       "0    266\n",
       "1    152\n",
       "Name: Survived, dtype: int64"
      ]
     },
     "execution_count": 6,
     "metadata": {},
     "output_type": "execute_result"
    }
   ],
   "source": [
    "train_data.Survived.value_counts()"
   ]
  },
  {
   "cell_type": "code",
   "execution_count": 7,
   "id": "17cc665f",
   "metadata": {},
   "outputs": [
    {
     "data": {
      "text/plain": [
       "male      266\n",
       "female    152\n",
       "Name: Sex, dtype: int64"
      ]
     },
     "execution_count": 7,
     "metadata": {},
     "output_type": "execute_result"
    }
   ],
   "source": [
    "train_data.Sex.value_counts()"
   ]
  },
  {
   "cell_type": "code",
   "execution_count": 8,
   "id": "66db59ae",
   "metadata": {},
   "outputs": [
    {
     "data": {
      "text/plain": [
       "S    270\n",
       "C    102\n",
       "Q     46\n",
       "Name: Embarked, dtype: int64"
      ]
     },
     "execution_count": 8,
     "metadata": {},
     "output_type": "execute_result"
    }
   ],
   "source": [
    "train_data.Embarked.value_counts()"
   ]
  },
  {
   "cell_type": "code",
   "execution_count": 9,
   "id": "c3158431",
   "metadata": {},
   "outputs": [
    {
     "data": {
      "text/plain": [
       "Survived      0\n",
       "Pclass        0\n",
       "Name          0\n",
       "Sex           0\n",
       "Age          86\n",
       "SibSp         0\n",
       "Parch         0\n",
       "Ticket        0\n",
       "Fare          1\n",
       "Cabin       327\n",
       "Embarked      0\n",
       "dtype: int64"
      ]
     },
     "execution_count": 9,
     "metadata": {},
     "output_type": "execute_result"
    }
   ],
   "source": [
    "train_data.isnull().sum()"
   ]
  },
  {
   "cell_type": "code",
   "execution_count": 11,
   "id": "156772ca",
   "metadata": {},
   "outputs": [
    {
     "data": {
      "text/plain": [
       "(418, 11)"
      ]
     },
     "execution_count": 11,
     "metadata": {},
     "output_type": "execute_result"
    }
   ],
   "source": [
    "train_data.shape"
   ]
  },
  {
   "cell_type": "code",
   "execution_count": null,
   "id": "55eed297",
   "metadata": {},
   "outputs": [],
   "source": []
  },
  {
   "cell_type": "code",
   "execution_count": 44,
   "id": "9ceb950f",
   "metadata": {},
   "outputs": [
    {
     "data": {
      "text/plain": [
       "Survived     0\n",
       "Pclass       0\n",
       "Sex          0\n",
       "Age         86\n",
       "SibSp        0\n",
       "Parch        0\n",
       "Fare         1\n",
       "Embarked     0\n",
       "dtype: int64"
      ]
     },
     "execution_count": 44,
     "metadata": {},
     "output_type": "execute_result"
    }
   ],
   "source": [
    "train_data.isnull().sum()"
   ]
  },
  {
   "cell_type": "code",
   "execution_count": 45,
   "id": "b8f5b60c",
   "metadata": {},
   "outputs": [
    {
     "data": {
      "text/html": [
       "<div>\n",
       "<style scoped>\n",
       "    .dataframe tbody tr th:only-of-type {\n",
       "        vertical-align: middle;\n",
       "    }\n",
       "\n",
       "    .dataframe tbody tr th {\n",
       "        vertical-align: top;\n",
       "    }\n",
       "\n",
       "    .dataframe thead th {\n",
       "        text-align: right;\n",
       "    }\n",
       "</style>\n",
       "<table border=\"1\" class=\"dataframe\">\n",
       "  <thead>\n",
       "    <tr style=\"text-align: right;\">\n",
       "      <th></th>\n",
       "      <th>Survived</th>\n",
       "      <th>Pclass</th>\n",
       "      <th>Sex</th>\n",
       "      <th>Age</th>\n",
       "      <th>SibSp</th>\n",
       "      <th>Parch</th>\n",
       "      <th>Fare</th>\n",
       "      <th>Embarked</th>\n",
       "    </tr>\n",
       "    <tr>\n",
       "      <th>PassengerId</th>\n",
       "      <th></th>\n",
       "      <th></th>\n",
       "      <th></th>\n",
       "      <th></th>\n",
       "      <th></th>\n",
       "      <th></th>\n",
       "      <th></th>\n",
       "      <th></th>\n",
       "    </tr>\n",
       "  </thead>\n",
       "  <tbody>\n",
       "    <tr>\n",
       "      <th>892</th>\n",
       "      <td>0</td>\n",
       "      <td>3</td>\n",
       "      <td>male</td>\n",
       "      <td>34.5</td>\n",
       "      <td>0</td>\n",
       "      <td>0</td>\n",
       "      <td>7.8292</td>\n",
       "      <td>Q</td>\n",
       "    </tr>\n",
       "    <tr>\n",
       "      <th>893</th>\n",
       "      <td>1</td>\n",
       "      <td>3</td>\n",
       "      <td>female</td>\n",
       "      <td>47.0</td>\n",
       "      <td>1</td>\n",
       "      <td>0</td>\n",
       "      <td>7.0000</td>\n",
       "      <td>S</td>\n",
       "    </tr>\n",
       "    <tr>\n",
       "      <th>894</th>\n",
       "      <td>0</td>\n",
       "      <td>2</td>\n",
       "      <td>male</td>\n",
       "      <td>62.0</td>\n",
       "      <td>0</td>\n",
       "      <td>0</td>\n",
       "      <td>9.6875</td>\n",
       "      <td>Q</td>\n",
       "    </tr>\n",
       "    <tr>\n",
       "      <th>895</th>\n",
       "      <td>0</td>\n",
       "      <td>3</td>\n",
       "      <td>male</td>\n",
       "      <td>27.0</td>\n",
       "      <td>0</td>\n",
       "      <td>0</td>\n",
       "      <td>8.6625</td>\n",
       "      <td>S</td>\n",
       "    </tr>\n",
       "    <tr>\n",
       "      <th>896</th>\n",
       "      <td>1</td>\n",
       "      <td>3</td>\n",
       "      <td>female</td>\n",
       "      <td>22.0</td>\n",
       "      <td>1</td>\n",
       "      <td>1</td>\n",
       "      <td>12.2875</td>\n",
       "      <td>S</td>\n",
       "    </tr>\n",
       "  </tbody>\n",
       "</table>\n",
       "</div>"
      ],
      "text/plain": [
       "             Survived  Pclass     Sex   Age  SibSp  Parch     Fare Embarked\n",
       "PassengerId                                                                \n",
       "892                 0       3    male  34.5      0      0   7.8292        Q\n",
       "893                 1       3  female  47.0      1      0   7.0000        S\n",
       "894                 0       2    male  62.0      0      0   9.6875        Q\n",
       "895                 0       3    male  27.0      0      0   8.6625        S\n",
       "896                 1       3  female  22.0      1      1  12.2875        S"
      ]
     },
     "execution_count": 45,
     "metadata": {},
     "output_type": "execute_result"
    }
   ],
   "source": [
    "train_data = pd.read_csv('Titanic.csv', index_col= 0)\n",
    "train_data = train_data.drop(['Name','Ticket','Cabin'],axis=1)\n",
    "train_data.head()"
   ]
  },
  {
   "cell_type": "code",
   "execution_count": 51,
   "id": "b068ce10",
   "metadata": {},
   "outputs": [],
   "source": [
    "# fuction of assigning age missing value \n",
    "def age_approx(cols):\n",
    "    Age = cols[0]\n",
    "    Pclass = cols[1]\n",
    "    if pd.isnull(Age):\n",
    "        if Pclass == 1:\n",
    "            return 37\n",
    "        elif Pclass==2:\n",
    "            return 29\n",
    "        else:\n",
    "            return 24\n",
    "    else:\n",
    "        return Age\n",
    "                \n",
    "           "
   ]
  },
  {
   "cell_type": "code",
   "execution_count": 53,
   "id": "aa67d4d4",
   "metadata": {},
   "outputs": [
    {
     "data": {
      "text/html": [
       "<div>\n",
       "<style scoped>\n",
       "    .dataframe tbody tr th:only-of-type {\n",
       "        vertical-align: middle;\n",
       "    }\n",
       "\n",
       "    .dataframe tbody tr th {\n",
       "        vertical-align: top;\n",
       "    }\n",
       "\n",
       "    .dataframe thead th {\n",
       "        text-align: right;\n",
       "    }\n",
       "</style>\n",
       "<table border=\"1\" class=\"dataframe\">\n",
       "  <thead>\n",
       "    <tr style=\"text-align: right;\">\n",
       "      <th></th>\n",
       "      <th>Survived</th>\n",
       "      <th>Age</th>\n",
       "      <th>SibSp</th>\n",
       "      <th>Parch</th>\n",
       "      <th>Fare</th>\n",
       "    </tr>\n",
       "    <tr>\n",
       "      <th>Pclass</th>\n",
       "      <th></th>\n",
       "      <th></th>\n",
       "      <th></th>\n",
       "      <th></th>\n",
       "      <th></th>\n",
       "    </tr>\n",
       "  </thead>\n",
       "  <tbody>\n",
       "    <tr>\n",
       "      <th>1</th>\n",
       "      <td>0.467290</td>\n",
       "      <td>40.918367</td>\n",
       "      <td>0.476636</td>\n",
       "      <td>0.383178</td>\n",
       "      <td>94.280297</td>\n",
       "    </tr>\n",
       "    <tr>\n",
       "      <th>2</th>\n",
       "      <td>0.322581</td>\n",
       "      <td>28.777500</td>\n",
       "      <td>0.376344</td>\n",
       "      <td>0.344086</td>\n",
       "      <td>22.202104</td>\n",
       "    </tr>\n",
       "    <tr>\n",
       "      <th>3</th>\n",
       "      <td>0.330275</td>\n",
       "      <td>24.027945</td>\n",
       "      <td>0.463303</td>\n",
       "      <td>0.417431</td>\n",
       "      <td>12.459678</td>\n",
       "    </tr>\n",
       "  </tbody>\n",
       "</table>\n",
       "</div>"
      ],
      "text/plain": [
       "        Survived        Age     SibSp     Parch       Fare\n",
       "Pclass                                                    \n",
       "1       0.467290  40.918367  0.476636  0.383178  94.280297\n",
       "2       0.322581  28.777500  0.376344  0.344086  22.202104\n",
       "3       0.330275  24.027945  0.463303  0.417431  12.459678"
      ]
     },
     "execution_count": 53,
     "metadata": {},
     "output_type": "execute_result"
    }
   ],
   "source": [
    "train_data.groupby(['Pclass']).mean()"
   ]
  },
  {
   "cell_type": "code",
   "execution_count": 56,
   "id": "c3584c10",
   "metadata": {},
   "outputs": [],
   "source": [
    "train_data['Age'] = train_data[['Age','Pclass']].apply(age_approx,axis=1)"
   ]
  },
  {
   "cell_type": "code",
   "execution_count": 58,
   "id": "e3fc3f5e",
   "metadata": {},
   "outputs": [
    {
     "data": {
      "text/plain": [
       "Survived    0\n",
       "Pclass      0\n",
       "Sex         0\n",
       "Age         0\n",
       "SibSp       0\n",
       "Parch       0\n",
       "Fare        1\n",
       "Embarked    0\n",
       "dtype: int64"
      ]
     },
     "execution_count": 58,
     "metadata": {},
     "output_type": "execute_result"
    }
   ],
   "source": [
    "train_data.isnull().sum()"
   ]
  },
  {
   "cell_type": "code",
   "execution_count": 61,
   "id": "4895605e",
   "metadata": {},
   "outputs": [
    {
     "data": {
      "text/plain": [
       "Survived    0\n",
       "Pclass      0\n",
       "Sex         0\n",
       "Age         0\n",
       "SibSp       0\n",
       "Parch       0\n",
       "Fare        0\n",
       "Embarked    0\n",
       "dtype: int64"
      ]
     },
     "execution_count": 61,
     "metadata": {},
     "output_type": "execute_result"
    }
   ],
   "source": [
    "train_data.dropna(inplace=True)\n",
    "train_data.isnull().sum()"
   ]
  },
  {
   "cell_type": "code",
   "execution_count": 70,
   "id": "7a62c89c",
   "metadata": {},
   "outputs": [],
   "source": [
    "train_data_dummied = pd.get_dummies(train_data,columns=['Sex'])"
   ]
  },
  {
   "cell_type": "code",
   "execution_count": 71,
   "id": "93042e49",
   "metadata": {},
   "outputs": [],
   "source": [
    "train_data_dummied = pd.get_dummies(train_data,columns=['Embarked'])"
   ]
  },
  {
   "cell_type": "code",
   "execution_count": 73,
   "id": "43cad56a",
   "metadata": {},
   "outputs": [
    {
     "data": {
      "text/html": [
       "<div>\n",
       "<style scoped>\n",
       "    .dataframe tbody tr th:only-of-type {\n",
       "        vertical-align: middle;\n",
       "    }\n",
       "\n",
       "    .dataframe tbody tr th {\n",
       "        vertical-align: top;\n",
       "    }\n",
       "\n",
       "    .dataframe thead th {\n",
       "        text-align: right;\n",
       "    }\n",
       "</style>\n",
       "<table border=\"1\" class=\"dataframe\">\n",
       "  <thead>\n",
       "    <tr style=\"text-align: right;\">\n",
       "      <th></th>\n",
       "      <th>Survived</th>\n",
       "      <th>Pclass</th>\n",
       "      <th>Sex</th>\n",
       "      <th>Age</th>\n",
       "      <th>SibSp</th>\n",
       "      <th>Parch</th>\n",
       "      <th>Fare</th>\n",
       "      <th>Embarked_C</th>\n",
       "      <th>Embarked_Q</th>\n",
       "      <th>Embarked_S</th>\n",
       "    </tr>\n",
       "    <tr>\n",
       "      <th>PassengerId</th>\n",
       "      <th></th>\n",
       "      <th></th>\n",
       "      <th></th>\n",
       "      <th></th>\n",
       "      <th></th>\n",
       "      <th></th>\n",
       "      <th></th>\n",
       "      <th></th>\n",
       "      <th></th>\n",
       "      <th></th>\n",
       "    </tr>\n",
       "  </thead>\n",
       "  <tbody>\n",
       "    <tr>\n",
       "      <th>892</th>\n",
       "      <td>0</td>\n",
       "      <td>3</td>\n",
       "      <td>male</td>\n",
       "      <td>34.5</td>\n",
       "      <td>0</td>\n",
       "      <td>0</td>\n",
       "      <td>7.8292</td>\n",
       "      <td>0</td>\n",
       "      <td>1</td>\n",
       "      <td>0</td>\n",
       "    </tr>\n",
       "    <tr>\n",
       "      <th>893</th>\n",
       "      <td>1</td>\n",
       "      <td>3</td>\n",
       "      <td>female</td>\n",
       "      <td>47.0</td>\n",
       "      <td>1</td>\n",
       "      <td>0</td>\n",
       "      <td>7.0000</td>\n",
       "      <td>0</td>\n",
       "      <td>0</td>\n",
       "      <td>1</td>\n",
       "    </tr>\n",
       "    <tr>\n",
       "      <th>894</th>\n",
       "      <td>0</td>\n",
       "      <td>2</td>\n",
       "      <td>male</td>\n",
       "      <td>62.0</td>\n",
       "      <td>0</td>\n",
       "      <td>0</td>\n",
       "      <td>9.6875</td>\n",
       "      <td>0</td>\n",
       "      <td>1</td>\n",
       "      <td>0</td>\n",
       "    </tr>\n",
       "    <tr>\n",
       "      <th>895</th>\n",
       "      <td>0</td>\n",
       "      <td>3</td>\n",
       "      <td>male</td>\n",
       "      <td>27.0</td>\n",
       "      <td>0</td>\n",
       "      <td>0</td>\n",
       "      <td>8.6625</td>\n",
       "      <td>0</td>\n",
       "      <td>0</td>\n",
       "      <td>1</td>\n",
       "    </tr>\n",
       "    <tr>\n",
       "      <th>896</th>\n",
       "      <td>1</td>\n",
       "      <td>3</td>\n",
       "      <td>female</td>\n",
       "      <td>22.0</td>\n",
       "      <td>1</td>\n",
       "      <td>1</td>\n",
       "      <td>12.2875</td>\n",
       "      <td>0</td>\n",
       "      <td>0</td>\n",
       "      <td>1</td>\n",
       "    </tr>\n",
       "  </tbody>\n",
       "</table>\n",
       "</div>"
      ],
      "text/plain": [
       "             Survived  Pclass     Sex   Age  SibSp  Parch     Fare  \\\n",
       "PassengerId                                                          \n",
       "892                 0       3    male  34.5      0      0   7.8292   \n",
       "893                 1       3  female  47.0      1      0   7.0000   \n",
       "894                 0       2    male  62.0      0      0   9.6875   \n",
       "895                 0       3    male  27.0      0      0   8.6625   \n",
       "896                 1       3  female  22.0      1      1  12.2875   \n",
       "\n",
       "             Embarked_C  Embarked_Q  Embarked_S  \n",
       "PassengerId                                      \n",
       "892                   0           1           0  \n",
       "893                   0           0           1  \n",
       "894                   0           1           0  \n",
       "895                   0           0           1  \n",
       "896                   0           0           1  "
      ]
     },
     "execution_count": 73,
     "metadata": {},
     "output_type": "execute_result"
    }
   ],
   "source": [
    "train_data_dummied.head()"
   ]
  },
  {
   "cell_type": "code",
   "execution_count": 76,
   "id": "1d7ffffa",
   "metadata": {},
   "outputs": [
    {
     "data": {
      "text/plain": [
       "<AxesSubplot:>"
      ]
     },
     "execution_count": 76,
     "metadata": {},
     "output_type": "execute_result"
    },
    {
     "data": {
      "image/png": "[encoded data removed]",
      "text/plain": [
       "<Figure size 432x288 with 2 Axes>"
      ]
     },
     "metadata": {},
     "output_type": "display_data"
    }
   ],
   "source": [
    "plt.figure(figsize=(6,4))\n",
    "sns.heatmap(train_data_dummied.corr())"
   ]
  },
  {
   "cell_type": "code",
   "execution_count": 120,
   "id": "324d3a67",
   "metadata": {},
   "outputs": [],
   "source": [
    "used_features = [\"Pclass\",\"SibSp\",\"Parch\",\"Embarked_C\",\"Embarked_Q\",\"Embarked_S\"]\n",
    "X = train_data_dummied[used_features].values\n",
    "y = train_data_dummied['Survived']"
   ]
  },
  {
   "cell_type": "code",
   "execution_count": 121,
   "id": "6ea97cd6",
   "metadata": {},
   "outputs": [],
   "source": [
    "X_train,X_test,y_train,y_test = train_test_split(X,y,test_size=0.3,random_state=1)"
   ]
  },
  {
   "cell_type": "code",
   "execution_count": 122,
   "id": "35c37595",
   "metadata": {},
   "outputs": [
    {
     "name": "stdout",
     "output_type": "stream",
     "text": [
      "(291, 6)\n",
      "(126, 6)\n",
      "(291,)\n",
      "(126,)\n"
     ]
    }
   ],
   "source": [
    "print(X_train.shape)\n",
    "print(X_test.shape)\n",
    "print(y_train.shape)\n",
    "print(y_test.shape)"
   ]
  },
  {
   "cell_type": "code",
   "execution_count": 123,
   "id": "f72d9eb9",
   "metadata": {},
   "outputs": [],
   "source": [
    "LogReg = LogisticRegression()"
   ]
  },
  {
   "cell_type": "code",
   "execution_count": 124,
   "id": "e7d3e156",
   "metadata": {},
   "outputs": [
    {
     "data": {
      "text/plain": [
       "LogisticRegression()"
      ]
     },
     "execution_count": 124,
     "metadata": {},
     "output_type": "execute_result"
    }
   ],
   "source": [
    "LogReg.fit(X_train,y_train)"
   ]
  },
  {
   "cell_type": "code",
   "execution_count": 126,
   "id": "b6997831",
   "metadata": {},
   "outputs": [],
   "source": [
    "y_pred= LogReg.predict(X_test)"
   ]
  },
  {
   "cell_type": "code",
   "execution_count": 127,
   "id": "a2365a1f",
   "metadata": {},
   "outputs": [
    {
     "data": {
      "text/plain": [
       "array([[66, 14],\n",
       "       [35, 11]], dtype=int64)"
      ]
     },
     "execution_count": 127,
     "metadata": {},
     "output_type": "execute_result"
    }
   ],
   "source": [
    "metrics.confusion_matrix(y_test,y_pred)"
   ]
  },
  {
   "cell_type": "code",
   "execution_count": 128,
   "id": "2fe653c6",
   "metadata": {},
   "outputs": [
    {
     "data": {
      "text/plain": [
       "0.6111111111111112"
      ]
     },
     "execution_count": 128,
     "metadata": {},
     "output_type": "execute_result"
    }
   ],
   "source": [
    "metrics.accuracy_score(y_test,y_pred)"
   ]
  },
  {
   "cell_type": "code",
   "execution_count": 129,
   "id": "282b5950",
   "metadata": {},
   "outputs": [
    {
     "data": {
      "text/plain": [
       "126"
      ]
     },
     "execution_count": 129,
     "metadata": {},
     "output_type": "execute_result"
    }
   ],
   "source": [
    "len(X_test)"
   ]
  },
  {
   "cell_type": "code",
   "execution_count": 130,
   "id": "f75f3eed",
   "metadata": {},
   "outputs": [
    {
     "name": "stdout",
     "output_type": "stream",
     "text": [
      "              precision    recall  f1-score   support\n",
      "\n",
      "           0       0.65      0.82      0.73        80\n",
      "           1       0.44      0.24      0.31        46\n",
      "\n",
      "    accuracy                           0.61       126\n",
      "   macro avg       0.55      0.53      0.52       126\n",
      "weighted avg       0.58      0.61      0.58       126\n",
      "\n"
     ]
    }
   ],
   "source": [
    "print(classification_report(y_test,y_pred))"
   ]
  },
  {
   "cell_type": "code",
   "execution_count": 106,
   "id": "6aa97d04",
   "metadata": {},
   "outputs": [
    {
     "data": {
      "text/plain": [
       "array([[-0.40325904,  0.1092412 ,  0.3509303 , -0.3112879 ,  0.82301223,\n",
       "        -0.51179763]])"
      ]
     },
     "execution_count": 106,
     "metadata": {},
     "output_type": "execute_result"
    }
   ],
   "source": [
    "LogReg.coef_"
   ]
  },
  {
   "cell_type": "code",
   "execution_count": 108,
   "id": "2ecb91da",
   "metadata": {},
   "outputs": [
    {
     "data": {
      "text/plain": [
       "array([0.4477345])"
      ]
     },
     "execution_count": 108,
     "metadata": {},
     "output_type": "execute_result"
    }
   ],
   "source": [
    "LogReg.intercept_"
   ]
  },
  {
   "cell_type": "code",
   "execution_count": 110,
   "id": "c080c916",
   "metadata": {},
   "outputs": [
    {
     "data": {
      "text/plain": [
       "Index(['Pclass', 'SibSp', 'Parch', 'Embarked_C', 'Embarked_Q', 'Embarked_S'], dtype='object')"
      ]
     },
     "execution_count": 110,
     "metadata": {},
     "output_type": "execute_result"
    }
   ],
   "source": [
    "train_data_dummied[used_features].columns"
   ]
  },
  {
   "cell_type": "code",
   "execution_count": 133,
   "id": "ae4c721e",
   "metadata": {},
   "outputs": [
    {
     "data": {
      "text/plain": [
       "array([[0.78139943, 0.21860057],\n",
       "       [0.78139943, 0.21860057],\n",
       "       [0.70486662, 0.29513338],\n",
       "       [0.69289074, 0.30710926],\n",
       "       [0.35662282, 0.64337718],\n",
       "       [0.5663102 , 0.4336898 ],\n",
       "       [0.69289074, 0.30710926],\n",
       "       [0.48476232, 0.51523768],\n",
       "       [0.6816446 , 0.3183554 ],\n",
       "       [0.54208038, 0.45791962],\n",
       "       [0.45181029, 0.54818971],\n",
       "       [0.48476232, 0.51523768],\n",
       "       [0.70486662, 0.29513338],\n",
       "       [0.70158316, 0.29841684],\n",
       "       [0.78139943, 0.21860057],\n",
       "       [0.78139943, 0.21860057],\n",
       "       [0.74522977, 0.25477023],\n",
       "       [0.78139943, 0.21860057],\n",
       "       [0.38598315, 0.61401685],\n",
       "       [0.6816446 , 0.3183554 ],\n",
       "       [0.59181412, 0.40818588],\n",
       "       [0.70486662, 0.29513338],\n",
       "       [0.72393981, 0.27606019],\n",
       "       [0.48476232, 0.51523768],\n",
       "       [0.62706614, 0.37293386],\n",
       "       [0.48476232, 0.51523768],\n",
       "       [0.53931151, 0.46068849],\n",
       "       [0.74180243, 0.25819757],\n",
       "       [0.42508088, 0.57491912],\n",
       "       [0.48476232, 0.51523768],\n",
       "       [0.78139943, 0.21860057],\n",
       "       [0.61474975, 0.38525025],\n",
       "       [0.5663102 , 0.4336898 ],\n",
       "       [0.66151917, 0.33848083],\n",
       "       [0.48476232, 0.51523768],\n",
       "       [0.53931151, 0.46068849],\n",
       "       [0.48476232, 0.51523768],\n",
       "       [0.5663102 , 0.4336898 ],\n",
       "       [0.70486662, 0.29513338],\n",
       "       [0.70486662, 0.29513338],\n",
       "       [0.48476232, 0.51523768],\n",
       "       [0.48476232, 0.51523768],\n",
       "       [0.70486662, 0.29513338],\n",
       "       [0.6816446 , 0.3183554 ],\n",
       "       [0.78139943, 0.21860057],\n",
       "       [0.61474975, 0.38525025],\n",
       "       [0.61474975, 0.38525025],\n",
       "       [0.48476232, 0.51523768],\n",
       "       [0.78139943, 0.21860057],\n",
       "       [0.78139943, 0.21860057],\n",
       "       [0.78139943, 0.21860057],\n",
       "       [0.61474975, 0.38525025],\n",
       "       [0.53931151, 0.46068849],\n",
       "       [0.46757533, 0.53242467],\n",
       "       [0.48476232, 0.51523768],\n",
       "       [0.51486547, 0.48513453],\n",
       "       [0.53931151, 0.46068849],\n",
       "       [0.70158316, 0.29841684],\n",
       "       [0.61474975, 0.38525025],\n",
       "       [0.58857581, 0.41142419],\n",
       "       [0.74522977, 0.25477023],\n",
       "       [0.76216738, 0.23783262],\n",
       "       [0.43058813, 0.56941187],\n",
       "       [0.61474975, 0.38525025],\n",
       "       [0.78139943, 0.21860057],\n",
       "       [0.78139943, 0.21860057],\n",
       "       [0.70486662, 0.29513338],\n",
       "       [0.74180243, 0.25819757],\n",
       "       [0.70486662, 0.29513338],\n",
       "       [0.76216738, 0.23783262],\n",
       "       [0.67313534, 0.32686466],\n",
       "       [0.42508088, 0.57491912],\n",
       "       [0.76216738, 0.23783262],\n",
       "       [0.69289074, 0.30710926],\n",
       "       [0.64866108, 0.35133892],\n",
       "       [0.78139943, 0.21860057],\n",
       "       [0.5663102 , 0.4336898 ],\n",
       "       [0.70486662, 0.29513338],\n",
       "       [0.60118612, 0.39881388],\n",
       "       [0.78139943, 0.21860057],\n",
       "       [0.78139943, 0.21860057],\n",
       "       [0.58857581, 0.41142419],\n",
       "       [0.53931151, 0.46068849],\n",
       "       [0.63921985, 0.36078015],\n",
       "       [0.78139943, 0.21860057],\n",
       "       [0.6816446 , 0.3183554 ],\n",
       "       [0.69289074, 0.30710926],\n",
       "       [0.6816446 , 0.3183554 ],\n",
       "       [0.53370254, 0.46629746],\n",
       "       [0.61474975, 0.38525025],\n",
       "       [0.54208038, 0.45791962],\n",
       "       [0.66151917, 0.33848083],\n",
       "       [0.61474975, 0.38525025],\n",
       "       [0.74522977, 0.25477023],\n",
       "       [0.61474975, 0.38525025],\n",
       "       [0.70486662, 0.29513338],\n",
       "       [0.61474975, 0.38525025],\n",
       "       [0.78139943, 0.21860057],\n",
       "       [0.41489166, 0.58510834],\n",
       "       [0.54208038, 0.45791962],\n",
       "       [0.70486662, 0.29513338],\n",
       "       [0.47898293, 0.52101707],\n",
       "       [0.70486662, 0.29513338],\n",
       "       [0.6816446 , 0.3183554 ],\n",
       "       [0.78139943, 0.21860057],\n",
       "       [0.70486662, 0.29513338],\n",
       "       [0.78139943, 0.21860057],\n",
       "       [0.78139943, 0.21860057],\n",
       "       [0.48476232, 0.51523768],\n",
       "       [0.78139943, 0.21860057],\n",
       "       [0.28070188, 0.71929812],\n",
       "       [0.78139943, 0.21860057],\n",
       "       [0.5663102 , 0.4336898 ],\n",
       "       [0.70486662, 0.29513338],\n",
       "       [0.78139943, 0.21860057],\n",
       "       [0.61366361, 0.38633639],\n",
       "       [0.47898293, 0.52101707],\n",
       "       [0.78139943, 0.21860057],\n",
       "       [0.48476232, 0.51523768],\n",
       "       [0.78139943, 0.21860057],\n",
       "       [0.78139943, 0.21860057],\n",
       "       [0.45754974, 0.54245026],\n",
       "       [0.69289074, 0.30710926],\n",
       "       [0.61474975, 0.38525025],\n",
       "       [0.76216738, 0.23783262],\n",
       "       [0.53931151, 0.46068849]])"
      ]
     },
     "execution_count": 133,
     "metadata": {},
     "output_type": "execute_result"
    }
   ],
   "source": [
    "LogReg.predict_proba(X_test)"
   ]
  },
  {
   "cell_type": "code",
   "execution_count": null,
   "id": "407f767b",
   "metadata": {},
   "outputs": [],
   "source": []
  }
 ],
 "metadata": {
  "kernelspec": {
   "display_name": "Python 3 (ipykernel)",
   "language": "python",
   "name": "python3"
  },
  "language_info": {
   "codemirror_mode": {
    "name": "ipython",
    "version": 3
   },
   "file_extension": ".py",
   "mimetype": "text/x-python",
   "name": "python",
   "nbconvert_exporter": "python",
   "pygments_lexer": "ipython3",
   "version": "3.9.7"
  }
 },
 "nbformat": 4,
 "nbformat_minor": 5
}
